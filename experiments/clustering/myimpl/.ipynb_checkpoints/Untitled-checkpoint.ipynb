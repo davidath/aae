{
 "cells": [
  {
   "cell_type": "code",
   "execution_count": 1,
   "metadata": {
    "collapsed": false
   },
   "outputs": [
    {
     "name": "stdout",
     "output_type": "stream",
     "text": [
      "Can not use cuDNN on context None: Disabled by dnn.enabled flag\n",
      "Mapped name None to device cuda: GeForce GTX 950 (0000:01:00.0)\n",
      "INFO [2017-11-23 15:09:43.861107] Loading data........\n",
      "INFO [2017-11-23 15:09:47.622266] Loading data........\n",
      "Traceback (most recent call last):\n",
      "  File \"../../../clustering/train.py\", line 205, in <module>\n",
      "    main(inp)\n",
      "  File \"../../../clustering/train.py\", line 50, in main\n",
      "    X = utils.load_data_train(cp)\n",
      "  File \"/mnt/disk1/thanasis/phd/aae/clustering/utils.py\", line 192, in load_data_train\n",
      "    np.save(out + prefix + '_' + num + '_' + 'random_perm.npy', p)\n",
      "  File \"/home/tdavvetas/anaconda2/lib/python2.7/site-packages/numpy/lib/npyio.py\", line 490, in save\n",
      "    fid = open(file, \"wb\")\n",
      "IOError: [Errno 2] No such file or directory: '../experiments/clustering/MNIST_normal_random_perm.npy'\n"
     ]
    }
   ],
   "source": [
    "! ../../../clustering/train.py -i ../../../cfg/clustering/normal_jupyter.ini | tee eval_aae_clustering.txt"
   ]
  }
 ],
 "metadata": {
  "kernelspec": {
   "display_name": "Python 2",
   "language": "python",
   "name": "python2"
  },
  "language_info": {
   "codemirror_mode": {
    "name": "ipython",
    "version": 2
   },
   "file_extension": ".py",
   "mimetype": "text/x-python",
   "name": "python",
   "nbconvert_exporter": "python",
   "pygments_lexer": "ipython2",
   "version": "2.7.14"
  }
 },
 "nbformat": 4,
 "nbformat_minor": 2
}
